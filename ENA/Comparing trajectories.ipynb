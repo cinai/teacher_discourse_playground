{
 "cells": [
  {
   "cell_type": "code",
   "execution_count": 3,
   "metadata": {},
   "outputs": [],
   "source": [
    "# -*- coding: utf-8 -*-\n",
    "%matplotlib inline\n",
    "import os\n",
    "from ena import text_preprocessing as tp, ena_processing as ep, ena_viz as ev\n",
    "import numpy as np\n",
    "from nltk.corpus import stopwords\n",
    "import matplotlib\n",
    "import matplotlib.pyplot as plt, mpld3\n",
    "mpld3.enable_notebook()\n",
    "import matplotlib.pylab as pylab\n",
    "import pickle\n",
    "import pandas as pd\n",
    "from text_clustering import viz\n",
    "from sklearn.decomposition import PCA\n",
    "from matplotlib.patches import Circle, Wedge, Polygon\n",
    "from matplotlib.collections import PatchCollection\n",
    "from mpld3 import fig_to_d3"
   ]
  },
  {
   "cell_type": "code",
   "execution_count": 2,
   "metadata": {
    "collapsed": true
   },
   "outputs": [],
   "source": [
    "root_path = 'C:\\Users\\CATALINA ESPINOZA\\Documents\\clusters ciae'\n",
    "data_path = os.path.join(root_path,'data')\n",
    "output_path = os.path.join(root_path,'output')\n",
    "pickle_path = os.path.join(output_path,'pickles')\n",
    "by_grade_path = os.path.join(output_path,'textos_ulloa_by_curso')\n",
    "by_grade_and_content = os.path.join(data_path,'textos_ulloa_by_grade_content')\n",
    "by_content_path = os.path.join(output_path,'textos_ulloa_by_contenido')\n",
    "all_files_path = os.path.join(data_path,'textos_ulloa')\n",
    "all_classes = os.path.join(data_path,'clases_ulloa.txt')"
   ]
  },
  {
   "cell_type": "markdown",
   "metadata": {},
   "source": [
    "## importar trayectorias"
   ]
  },
  {
   "cell_type": "code",
   "execution_count": 5,
   "metadata": {
    "collapsed": true
   },
   "outputs": [],
   "source": [
    "period_3m = 3\n",
    "overlap_1m = 1\n",
    "with open(os.path.join(pickle_path,'trajectories_'+str(period_3m)+'_minutes_'+str(overlap_1m)+'overlap_complete_sample.pickle'),'rb') as f:\n",
    "    x_values_3m = pickle.load(f)\n",
    "    y_values_3m = pickle.load(f)\n",
    "    labels_3m = pickle.load(f)\n",
    "    labels_by_session_3m = pickle.load(f)\n",
    "    session_x_3m = pickle.load(f)\n",
    "    session_y_3m = pickle.load(f)\n",
    "    session_x_check_3m = pickle.load(f)\n",
    "    session_y_check_3m  = pickle.load(f)"
   ]
  },
  {
   "cell_type": "code",
   "execution_count": 6,
   "metadata": {
    "collapsed": true
   },
   "outputs": [],
   "source": [
    "period_10m = 10\n",
    "overlap_5m = 5\n",
    "with open(os.path.join(pickle_path,'trajectories_'+str(period_10m)+'_minutes_'+str(overlap_5m)+'overlap_complete_sample.pickle'),'rb') as f:\n",
    "    x_values_10m = pickle.load(f)\n",
    "    y_values_10m = pickle.load(f)\n",
    "    labels_10m = pickle.load(f)\n",
    "    labels_by_session_10m = pickle.load(f)\n",
    "    session_x_10m = pickle.load(f)\n",
    "    session_y_10m = pickle.load(f)\n",
    "    session_x_check_10m = pickle.load(f)\n",
    "    session_y_check_10m  = pickle.load(f)"
   ]
  },
  {
   "cell_type": "code",
   "execution_count": null,
   "metadata": {
    "collapsed": true
   },
   "outputs": [],
   "source": [
    "period_5m = 5\n",
    "overlap_2m = 2\n",
    "with open(os.path.join(pickle_path,'trajectories_'+str(period_5m)+'_minutes_'+str(overlap_2m)+'overlap_complete_sample.pickle'),'rb') as f:\n",
    "    x_values_5m = pickle.load(f)\n",
    "    y_values_5m = pickle.load(f)\n",
    "    labels_5m = pickle.load(f)\n",
    "    labels_by_session_5m = pickle.load(f)\n",
    "    session_x_5m = pickle.load(f)\n",
    "    session_y_5m = pickle.load(f)\n",
    "    session_x_check_5m = pickle.load(f)\n",
    "    session_y_check_5m  = pickle.load(f)"
   ]
  },
  {
   "cell_type": "code",
   "execution_count": 7,
   "metadata": {},
   "outputs": [
    {
     "data": {
      "text/plain": [
       "'\\nGET THE CORRECT LABELS FOR FILTERED SESSIONS\\nenergy_CHECKTHIS = [20,14,15,54,26,42,41,46]\\nkinematics = [27,38,44,2,32,12,52]\\nelectrodinamics = []\\ncircuits = [31,30,22,0,48]\\nelectrostatic = [45,3,25,17]\\noptics = [29,8,13,4,18,10,23,6,29]\\nsound = [51,36,33]\\nfluids = [28,53,43,50]\\n'"
      ]
     },
     "execution_count": 7,
     "metadata": {},
     "output_type": "execute_result"
    }
   ],
   "source": [
    "content_topics = [0,15,3,6,13,10,4,7]\n",
    "science_skills_topics = [1,12,5,9]\n",
    "science_tools_topics = [2,8,11,14]\n",
    "'''\n",
    "GET THE CORRECT LABELS FOR FILTERED SESSIONS\n",
    "energy_CHECKTHIS = [20,14,15,54,26,42,41,46]\n",
    "kinematics = [27,38,44,2,32,12,52]\n",
    "electrodinamics = []\n",
    "circuits = [31,30,22,0,48]\n",
    "electrostatic = [45,3,25,17]\n",
    "optics = [29,8,13,4,18,10,23,6,29]\n",
    "sound = [51,36,33]\n",
    "fluids = [28,53,43,50]\n",
    "'''"
   ]
  },
  {
   "cell_type": "code",
   "execution_count": null,
   "metadata": {
    "collapsed": true
   },
   "outputs": [],
   "source": [
    "counter = 0\n",
    "for doc in labels_by_session.keys():\n",
    "    # draw polygons\n",
    "    fig, ax = plt.subplots()\n",
    "    scatt = plt.scatter(T_x,T_y,marker='*')\n",
    "    tooltips_nodes = mpld3.plugins.PointLabelTooltip(scatt, labels=selected_topics)\n",
    "    mpld3.plugins.connect(plt.gcf(), tooltips_nodes)\n",
    "    \n",
    "    polygon_content = Polygon(zip(np.array(T_x)[content_topics],np.array(T_y)[content_topics]),True)\n",
    "    polygon_skills = Polygon(zip(np.array(T_x)[science_skills_topics],np.array(T_y)[science_skills_topics]),True)\n",
    "    polygon_arithmetic = Polygon(zip(np.array(T_x)[science_tools_topics],np.array(T_y)[science_tools_topics]),True)\n",
    "    \n",
    "    patches = [polygon_content,polygon_skills,polygon_arithmetic]\n",
    "    p = PatchCollection(patches, cmap=matplotlib.cm.jet, alpha=0.06)\n",
    "    colors = [ 0.82012597,81.58657731,98.9247411 ]\n",
    "    p.set_array(np.array(colors))\n",
    "    ax.add_collection(p)\n",
    "    for t in content_topics:\n",
    "        s = selected_topics[t]\n",
    "        if selected_topics[t].startswith('Water'):\n",
    "            s = 'Water res'\n",
    "        ax.annotate(s,xy=(T_x[t],T_y[t]),xytext=(T_x[t]-0.05,T_y[t]+0.1))\n",
    "    \n",
    "    # draw xvalues yvalues using labels_array_matrices\n",
    "    x_by_session = []\n",
    "    y_by_session = []\n",
    "    a_tooltips = []\n",
    "    a_label = \"\"\n",
    "    \n",
    "    for i in range(len(labels_by_session[doc].keys())):\n",
    "        # construir label_i\n",
    "        label_i = doc+'_period_'+str(i)\n",
    "        value_i = labels_array_matrices.index(label_i)\n",
    "        a_label = labels[label_i]\n",
    "        x_by_session.append(x_values[value_i])\n",
    "        y_by_session.append(y_values[value_i])\n",
    "        if i == 0:\n",
    "            a_color = 'r'\n",
    "        elif a_label.startswith('end'):\n",
    "            a_color = 'y'\n",
    "        else:\n",
    "            a_color = 'g'\n",
    "        scatt_ = plt.scatter(x_values[value_i],y_values[value_i],c=a_color)\n",
    "        a_tooltips.append(mpld3.plugins.PointLabelTooltip(scatt_, labels=[a_label]))\n",
    "\n",
    "    plt.plot(x_by_session,y_by_session,'g')\n",
    "    \n",
    "    for j in range(len(a_tooltips)):\n",
    "        mpld3.plugins.connect(plt.gcf(), a_tooltips[j])\n",
    "\n",
    "    # original session\n",
    "    original_session_id = corpus_index[doc]\n",
    "    plt.scatter([session_x_filtered[original_session_id]],[session_y_filtered[original_session_id]],c='purple',marker='s')\n",
    "\n",
    "    plt.title(a_label[4:])\n",
    "\n",
    "    open(os.path.join('output','html',str(PERIOD_LENGTH)+'m','trajectory_session_'+str(doc)+'_'+a_label[4:]+'_5_minutes.html'), 'w').write(fig_to_d3(fig))\n",
    "    fig.savefig(os.path.join('output','svg',str(PERIOD_LENGTH)+'m','trajectory_session_'+str(doc)+'_'+a_label[4:]+'_5_minutes.svg'))\n",
    "    #mpld3.fig_to_html(fig,'trajectory_seesion_'+str(i)+'.html')"
   ]
  }
 ],
 "metadata": {
  "kernelspec": {
   "display_name": "Python [conda env:env27]",
   "language": "python",
   "name": "conda-env-env27-py"
  },
  "language_info": {
   "codemirror_mode": {
    "name": "ipython",
    "version": 2
   },
   "file_extension": ".py",
   "mimetype": "text/x-python",
   "name": "python",
   "nbconvert_exporter": "python",
   "pygments_lexer": "ipython2",
   "version": "2.7.14"
  }
 },
 "nbformat": 4,
 "nbformat_minor": 2
}
