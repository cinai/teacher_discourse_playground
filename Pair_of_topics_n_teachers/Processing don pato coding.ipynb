{
 "cells": [
  {
   "cell_type": "code",
   "execution_count": 63,
   "metadata": {
    "collapsed": true
   },
   "outputs": [],
   "source": [
    "import pandas as pd\n",
    "import os\n",
    "import numpy as np\n",
    "import matplotlib.pyplot as plt\n",
    "from ena import text_preprocessing as tp"
   ]
  },
  {
   "cell_type": "code",
   "execution_count": 5,
   "metadata": {},
   "outputs": [],
   "source": [
    "root_path = 'C:\\Users\\CATALINA ESPINOZA\\Documents\\clusters ciae'\n",
    "data_path = os.path.join(root_path,'data')\n",
    "code_path = os.path.join(data_path,'codificaciones')\n",
    "output_path = os.path.join(root_path,'output')\n",
    "pickle_path = os.path.join(output_path,'pickles')\n",
    "by_grade_path = os.path.join(output_path,'textos_ulloa_by_curso')\n",
    "by_grade_and_content = os.path.join(data_path,'textos_ulloa_by_grade_content')\n",
    "by_content_path = os.path.join(output_path,'textos_ulloa_by_contenido')\n",
    "all_files_path = os.path.join(data_path,'textos_ulloa')\n",
    "all_classes = os.path.join(data_path,'clases_ulloa.txt')"
   ]
  },
  {
   "cell_type": "code",
   "execution_count": 122,
   "metadata": {},
   "outputs": [],
   "source": [
    "# leer excels\n",
    "mo7_1 = pd.read_excel(os.path.join(code_path,'Codificacion de topicos 7th_Geographical_factors1.xlsx'),encoding='utf-8')\n",
    "mo7_1[u'Línea de texto'].fillna('',inplace=True)\n",
    "mo7_2 = pd.read_excel(os.path.join(code_path,'Codificacion de topicos 7th_Geographical_factors2.xlsx'),encoding='utf-8')\n",
    "mo7_2[u'Línea de texto'].fillna('',inplace=True)\n",
    "cross_border = pd.read_excel(os.path.join(code_path,'Codificacion de topicos_Cross_Border_Santa_Rita_Texas.xlsx'),encoding='utf-8')\n",
    "cross_border[u'Línea de texto'].fillna('',inplace=True)"
   ]
  },
  {
   "cell_type": "code",
   "execution_count": 123,
   "metadata": {
    "scrolled": false
   },
   "outputs": [
    {
     "name": "stdout",
     "output_type": "stream",
     "text": [
      "True\n",
      "True\n"
     ]
    }
   ],
   "source": [
    "print sum(mo7_2.columns == cross_border.columns) == 27\n",
    "print sum(mo7_2.columns == mo7_1.columns)== 27"
   ]
  },
  {
   "cell_type": "code",
   "execution_count": 124,
   "metadata": {},
   "outputs": [
    {
     "data": {
      "text/plain": [
       "(array([365.,   0.,   0.,   0.,   0.,   0.,   0.,   0.,   0.,  19.]),\n",
       " array([0. , 0.1, 0.2, 0.3, 0.4, 0.5, 0.6, 0.7, 0.8, 0.9, 1. ]),\n",
       " <a list of 10 Patch objects>)"
      ]
     },
     "execution_count": 124,
     "metadata": {},
     "output_type": "execute_result"
    },
    {
     "data": {
      "image/png": "[encoded data removed]",
      "text/plain": [
       "<matplotlib.figure.Figure at 0xb555668>"
      ]
     },
     "metadata": {},
     "output_type": "display_data"
    }
   ],
   "source": [
    "plt.hist(mo7_2[u'Administración'].values)"
   ]
  },
  {
   "cell_type": "code",
   "execution_count": 125,
   "metadata": {
    "scrolled": false
   },
   "outputs": [
    {
     "data": {
      "text/plain": [
       "(array([107.,   0.,   0.,   0.,   0.,   0.,   0.,   0.,   0.,  25.]),\n",
       " array([0. , 0.1, 0.2, 0.3, 0.4, 0.5, 0.6, 0.7, 0.8, 0.9, 1. ]),\n",
       " <a list of 10 Patch objects>)"
      ]
     },
     "execution_count": 125,
     "metadata": {},
     "output_type": "execute_result"
    },
    {
     "data": {
      "image/png": "[encoded data removed]",
      "text/plain": [
       "<matplotlib.figure.Figure at 0xb4cbeb8>"
      ]
     },
     "metadata": {},
     "output_type": "display_data"
    }
   ],
   "source": [
    "plt.hist(cross_border[u'Administración'].values)"
   ]
  },
  {
   "cell_type": "code",
   "execution_count": 38,
   "metadata": {},
   "outputs": [],
   "source": [
    "les_rows = []\n",
    "for row in mo7_1.iterrows():\n",
    "    index, data = row\n",
    "    les_rows.append(np.array(data.tolist()[1:]))"
   ]
  },
  {
   "cell_type": "code",
   "execution_count": 40,
   "metadata": {},
   "outputs": [
    {
     "data": {
      "text/plain": [
       "392"
      ]
     },
     "execution_count": 40,
     "metadata": {},
     "output_type": "execute_result"
    }
   ],
   "source": [
    "# dividir sesiones en pedazos de 5 minutos movidos en 1\n",
    "les_chunks = []\n",
    "c = 0\n",
    "for row in les_rows:\n",
    "    if c%4 == 0:\n",
    "        les_chunks.append([])\n",
    "    les_chunks[-1].append(row)\n",
    "    c+=1"
   ]
  },
  {
   "cell_type": "code",
   "execution_count": 126,
   "metadata": {
    "collapsed": true
   },
   "outputs": [],
   "source": [
    "lines_dict = {'7th_Geographical_factors1':mo7_1[u'Línea de texto'].values,'7th_Geographical_factors2':mo7_2[u'Línea de texto'].values,'cross_border':cross_border[u'Línea de texto'].values}"
   ]
  },
  {
   "cell_type": "code",
   "execution_count": 108,
   "metadata": {},
   "outputs": [],
   "source": [
    "label_dict = {}\n",
    "for k in lines_dict.keys():\n",
    "    label_dict[k] = k"
   ]
  },
  {
   "cell_type": "code",
   "execution_count": 127,
   "metadata": {},
   "outputs": [
    {
     "data": {
      "text/plain": [
       "<module 'ena.text_preprocessing' from 'ena\\text_preprocessing.pyc'>"
      ]
     },
     "execution_count": 127,
     "metadata": {},
     "output_type": "execute_result"
    }
   ],
   "source": [
    "reload(tp)"
   ]
  },
  {
   "cell_type": "code",
   "execution_count": 128,
   "metadata": {
    "scrolled": true
   },
   "outputs": [],
   "source": [
    "d,l = tp.split_excels(lines_dict,label_dict,period_length=5,overlap_length=1,n_seconds_per_line=15)"
   ]
  },
  {
   "cell_type": "code",
   "execution_count": 111,
   "metadata": {},
   "outputs": [],
   "source": [
    "# TODO: Build a function to split list of excel filesons"
   ]
  },
  {
   "cell_type": "code",
   "execution_count": null,
   "metadata": {
    "collapsed": true
   },
   "outputs": [],
   "source": [
    "# importar info topicos "
   ]
  },
  {
   "cell_type": "code",
   "execution_count": null,
   "metadata": {
    "collapsed": true
   },
   "outputs": [],
   "source": [
    "# voy a tener por linea pertenencia a topicos\n",
    "# se tienen que sumar por ventana movediza de 30s\n",
    "# por cada pedazo tengo que calcular una co-occurrencia matrix: esta se calcula\n",
    "# sumando todas las co-ocurrencias de las ventanas de 30 s"
   ]
  },
  {
   "cell_type": "code",
   "execution_count": 53,
   "metadata": {},
   "outputs": [
    {
     "data": {
      "text/plain": [
       "array([u'ya guarde silencio tome asiento por favor', u'Gabriel',\n",
       "       u'estaba haciendo por favor', u'Felipe en relleno',\n",
       "       u'lo voy a guardar Bueno entonces', u'a ver la \\xfaltima clase',\n",
       "       u'si la clase va a estar terminamos hablando de del',\n",
       "       u'los factores determinan el clima que modifican el clima la parte astron\\xf3mica',\n",
       "       u'recuerda esto es la radiaci\\xf3n del Sol y esto de los equinoccios y los solsticios',\n",
       "       u'la palabra los cambios de la estaci\\xf3n estoy viendo hablando un poco sobre los',\n",
       "       u'factores geogr\\xe1ficos de los factores astron\\xf3micos',\n",
       "       u'por favor todos los factores geogr\\xe1ficos como los factores',\n",
       "       u'astron\\xf3micos no son determinados y no pueden ser modificados por el cel',\n",
       "       u'el hombre solamente son condiciones naturales de',\n",
       "       u'de la tierra que van desde mirando van variando Iv\\xe1n produciendo que los',\n",
       "       u'Esas son las que a distintos',\n",
       "       u'Entonces no me pregunt\\xf3 con qui\\xe9n se relaciona',\n",
       "       u'latitud', u'no no nada que ver cuando viene el viento ac\\xe1',\n",
       "       u'no tiene que ver con la cercan\\xeda al Ecuador lo vimos la clase pasada',\n",
       "       u'la parte norte de la parte ant\\xe1rtica',\n",
       "       u'ten\\xeda la l\\xednea del Ecuador el capricho',\n",
       "       u'y ten\\xeda la ni\\xf1a de c\\xe1ncer todo eso tiene relaci\\xf3n con lo que',\n",
       "       u'la latitud o sea las palabras tiene que ver con la cerca',\n",
       "       u'Attitude',\n",
       "       u'la altura Cuando subes un cerro y cosas y estoy cercan\\xeda',\n",
       "       u'a la l\\xednea del Ecuador', u'entonces prefiero remont\\xf3',\n",
       "       u'Macarena pronto pregunto',\n",
       "       u'todo lo que es la latitud de cercan\\xeda',\n",
       "       u'esta lejan\\xeda tambi\\xe9n con respecto a la l\\xednea de Ecuador los pa\\xedses que est\\xe1n en la',\n",
       "       u'como es el clima normalmente', u'deja de mirar Lidia',\n",
       "       u' templado perfecto',\n",
       "       u'variaci\\xf3n es la temperatura en una fecha no ser\\xe1 tan o no est\\xe1n',\n",
       "       u'cambio tan dr\\xe1stico el cambio que se produce Qu\\xe9 quiere decir eso Por ejemplo',\n",
       "       u'no se puede que amanezca con 22 grados y llegan a lo m\\xe1ximo',\n",
       "       u'osea son temperatura m\\xe1s cercanas entre s\\xed',\n",
       "       u'en el caso de chile que puede amanecer con muy baja temperatura y',\n",
       "       u'una marcha muy todo el d\\xeda siguiente Est\\xe1 nublado y al d\\xeda siguiente',\n",
       "       u'entonces obviamente mientras uno se va alejando de la',\n",
       "       u'Ecuador ya est\\xe1 menos cerca de ella lo lleva pasando lo lleva produciendo',\n",
       "       u'modificaci\\xf3n en el clima no puedo pretender',\n",
       "       u'collares no se puede pretender de que por ejemplo la ciudad',\n",
       "       u'Hola regi\\xf3n de la lugar donde est\\xe1 Valdivia tenga un clima parecido por ejemplo el Ecuador',\n",
       "       u'porque porque mi mente por su lejan\\xeda obviamente va a tener clima + free',\n",
       "       u'ya que est\\xe1 m\\xe1s cerca del hotel Ant\\xe1rtida',\n",
       "       u'jugador oro las palabras tambi\\xe9n con respecto a su cercan\\xeda a su posici\\xf3n geogr\\xe1fica',\n",
       "       u'con respecto a los vientos Usted debe comprender',\n",
       "       u'Debes saber que en todo lo que respecta para el clima los vientos tambi\\xe9n voy',\n",
       "       u'mucho lo que es este Josefa', u'depende', nan,\n",
       "       u'Ya voy en esta prueba esta prueba de f\\xedsica Es la m\\xeda',\n",
       "       u'matem\\xe1tica del mi\\xe9rcoles', nan,\n",
       "       u'que es una mente f\\xedsica y biolog\\xeda y se pueden dos pruebas el mismo d\\xeda',\n",
       "       u'en dos', u'con respecto a los vientos',\n",
       "       u'con respecto a los vientos',\n",
       "       u'quiero que te debe comprender pero de comprender que la atm\\xf3sfera',\n",
       "       u'/ masa soporta Paz las 12 tenemos lo que son las capas del',\n",
       "       u'c\\xf3mo ser\\xe1',\n",
       "       u'y dentro de estas capas o dentro la primera capa de',\n",
       "       u'C\\xf3mo fue la desde la tierra hacia arriba tengo algo llamado lo que son',\n",
       "       u'masa de aire', u's\\xed es la primera capa de abajo hacia arriba',\n",
       "       u'Qu\\xe9 quiere decir esto masa de aire son',\n",
       "       u'c\\xfamulo de aire que est\\xe1 en constante movimiento se Y eso es lo que usted',\n",
       "       u'cuando hay mucho viento y no recuerdo Qu\\xe9 d\\xeda de',\n",
       "       u'semana pasada que hubo un d\\xeda que corr\\xeda todo bien todav\\xeda',\n",
       "       u'el viernes 12 ya voy S\\xf3lo eso qu\\xe9 tiene que ver',\n",
       "       u'se cort\\xf3 la luz', nan, u'Qu\\xe9 es la velocidad del viento',\n",
       "       u'llegar a cualquier velocidad Pero lo que s\\xed por ejemplo ac\\xe1 en Santiago nuevamente',\n",
       "       u'Yuya como los 60 80 minutos por hora profesional zona del Sur',\n",
       "       u'poblaci\\xf3n de la regi\\xf3n de ays\\xe9n sobrepasa los 120 km por hora',\n",
       "       u'tambi\\xe9n se\\xf1orita despu\\xe9s Soto', u'diga', u's\\xed s\\xed',\n",
       "       u'a ese sonido', u'serie',\n",
       "       u'S\\xed podr\\xeda ser pero eso va por la',\n",
       "       u'abre la puerta que lleva la velocidad viento Soto',\n",
       "       u'el viento es una masa de aire',\n",
       "       u'lo que pasa para que puedas sonar es porque es \\xe9sta',\n",
       "       u'moviendo est\\xe1 pasando por parte muy peque\\xf1a o sea por ejemplo si t\\xfa est\\xe1 corriendo viento',\n",
       "       u'Haz una peque\\xf1a espacio de tu ventana servicio sonido pero sus sonidos',\n",
       "       u'equival\\xeda sobrevender Si veo algo cercano de tu',\n",
       "       u'estaba solo en un lugar peque\\xf1o algo estrecho Pero sola cada vez que queda encerrado en alg\\xfan lugar',\n",
       "       u'el viento no ah\\xed No sabr\\xeda decirte porque suena',\n",
       "       u'mejor no hay vencedores por eso',\n",
       "       u'esta masa de aire tienen un movimiento que es', nan, u's\\xed',\n",
       "       u'siempre se produce porque se mueve de mayor a menor',\n",
       "       u'te gusta tirar tiros Lo que pasa que estaba a su compa\\xf1era antes',\n",
       "       u'sida', u'canciones del clima', u'estaba arriba despu\\xe9s', nan,\n",
       "       nan, u'si el viento',\n",
       "       u'solamente en punta Arenas o en el sur de chile y una velocidad muy grandes',\n",
       "       u'estoy hablando diciendo 121 hora por hora piensa que como sistema de chocar un auto a 120',\n",
       "       u'Esa es la fuerza que lleva Obviamente el impacto no es el mismo',\n",
       "       u'porque porque no es algo serio ya pero en el sentido de fuerza me sent\\xed',\n",
       "       u'herej\\xeda que lleva de ese tipo',\n",
       "       u'no s\\xe9 ya lo hubiera llevado', nan, u'pues eso s\\xed',\n",
       "       u'Gracias televisi\\xf3n despu\\xe9s final podemos responder',\n",
       "       u'podemos conversar lo que te queda pendiente pero si no va a ir agarrando ideas',\n",
       "       u'no va a comprender lo que estoy mencionando cuando hablo de vientos estoy hablando de masa de',\n",
       "       u'osea grandes cantidades acumuladas de aire que c\\xf3mo se mueven de mayor',\n",
       "       u'menor presi\\xf3n de vapor Qui\\xe9n es el movimiento normal de cualquier',\n",
       "       u'ruido de cualquier gas Siempre de mayor hacia menor presi\\xf3n mismo sucede por ejemplo',\n",
       "       u'humanos con respecto a la membrana siempre me dicen que pase de mayor concentraci\\xf3n hacia un',\n",
       "       u'la concentraci\\xf3n siempre va de mayor a menor',\n",
       "       u'Sergio lo que pasa con los vientos los vientos producen en qu\\xe9 sentido se usan con',\n",
       "       u'es la parte donde hay mucho viento las fluctuaciones o los cambios de temperatura',\n",
       "       u'no son muy bruscos por ejemplo Gabriela',\n",
       "       u'lo que respecta a las partes de la costa en la costa tiene mucho bien',\n",
       "       u'Gabriel suceda porque por la diferencia de presi\\xf3n y es constante movimiento de eso',\n",
       "       u'masa de aire No nos lleva mientras mayor la diferencia',\n",
       "       u'presi\\xf3n se ha sido un lugar con muchos besos con muy poca vamos estaba viendo ahora',\n",
       "       u'la final de fondo dudas igual no va a haber viento cuando conocen',\n",
       "       u'la presi\\xf3n no hay esta masa de aire que est\\xe1 moviendo Ahora nos estamos viendo porque yo',\n",
       "       u'que condiciona lo que es el clima porque este movimiento regular un poco lo que la temperatura',\n",
       "       u'en qu\\xe9 sentido regulan porque no se te da hoy en d\\xeda la playa obviamente no',\n",
       "       u'tal el clima como para que ya mejor se ba\\xf1a pero no es como ac\\xe1 en Santiago que la ma\\xf1ana',\n",
       "       u'Homero 2\\xb0 y atado',\n",
       "       u'la 14 y la m\\xe1xima 18 sea una diferencia entre la m\\xe1xima y la m\\xednima muy',\n",
       "       u'peque\\xf1a la comparaci\\xf3n con otros lugares',\n",
       "       u'nos vemos ac\\xe1 en Santiago que tenemos claro',\n",
       "       u'C\\xf3mo llegar a 30 y 8 de enero 48', u'Mentes oce\\xe1nicas',\n",
       "       u'por otro lado as\\xed como los vientos tiene masas',\n",
       "       u'de que se mueven las corrientes oce\\xe1nicas son masas de agua',\n",
       "       nan, u'que est\\xe1n en movimiento', u'hay diferentes hoy',\n",
       "       u'varias movimiento con respecto a lo que son las corrientes',\n",
       "       u'oce\\xe1nicas habl\\xf3 principalmente una de las principales para los oro',\n",
       "       u'en Chile es la corriente de Humboldt qu\\xe9 consiste esto',\n",
       "       u'dientes que se dan por la diferencia de temperatura quiniela',\n",
       "       u'de agua y diferentes lugares no se encuentra que est\\xe1n en constante movimiento',\n",
       "       nan, nan,\n",
       "       u'si no le va a seguir la presi\\xf3n o c\\xf3mo se modifica',\n",
       "       u'presi\\xf3n de huelga nivel del mar siempre en la misma versi\\xf3n lo que va a depender',\n",
       "       u'siempre iba a ser la mayor presi\\xf3n ahora lo que va a variar es con respecto a',\n",
       "       u'lugares donde la presi\\xf3n puede variar y puede hacer ese movimiento de esta masa',\n",
       "       u'el aire va a ser que va a estar haciendo eso', u'Avalon',\n",
       "       u'corriente de Humboldt la corriente de Humboldt se da el oc\\xe9ano Pac\\xedfico es una corriente',\n",
       "       u'es una forma de decir movimiento de la masa de agua',\n",
       "       u'adem\\xe1s uno de los factores deportivos ejemplo en el caso de nosotros En el caso de Chile',\n",
       "       u'la temperatura en el agua del oc\\xe9ano es muy grande si no la mente',\n",
       "       u'fr\\xedas aguas fr\\xedas ya puede ser corriente',\n",
       "       u'y despu\\xe9s hablar', u'la clase pasada',\n",
       "       u'Villa mayor detalle las aventuras y para terminar el d\\xeda con la parte geogr\\xe1fica',\n",
       "       u'Ya s\\xe9', u'Ahora s\\xed ahora', nan,\n",
       "       u'se forman que no escuchado del t\\xe9',\n",
       "       u'lo que pasa si Macarena deje conversar',\n",
       "       u'lo que pasa si ha llegado es que cuando t\\xfa abres por eso',\n",
       "       u'ventanas informaci\\xf3n corrientes de aire Entonces s\\xed',\n",
       "       u'la ventana Est\\xe1 abierto muy poco esa corriente a pasar muy r\\xe1pido y abastecer luz y un sonido',\n",
       "       u'ya pero lo que s\\xed porque s\\xed va a modificar en la pensi\\xf3n porque volvimos a estar',\n",
       "       u'curando el aire a alta velocidad puede que baje la presi\\xf3n dentro del veh\\xedculo proceso',\n",
       "       u'Traducir llavero', u'si es por eso porque est\\xe1s cambiando la',\n",
       "       u'canci\\xf3n dentro del veh\\xedculo al modificar la presi\\xf3n obviamente se produce',\n",
       "       u'obviamente por eso se produce lo que s\\xf3lo dolor de o\\xeddo',\n",
       "       nan,\n",
       "       u'Cu\\xe1l es herencia entre el viento y el aire el aire es la masa que est\\xe1 detenida',\n",
       "       u'el viento es cuando est\\xe1 m\\xe1s empieza a moverse Entonces siempre',\n",
       "       u'hay aire pero siempre hay viento La Voz del viento cuando empieza a moverse',\n",
       "       u'entonces',\n",
       "       u'las corrientes oce\\xe1nicas para poder picar queso la cola',\n",
       "       u'oce\\xe1nica tambi\\xe9n son masa de agua que est\\xe1n en movimiento esa masa',\n",
       "       u'juego de dos opciones pueden ser fr\\xedas o puede ser caliente',\n",
       "       u'la corriente de Humboldt es una masa de agua fr\\xeda que est\\xe1 constantemente',\n",
       "       u'circular el agua de la costa por eso quiere nuestra agua nunca',\n",
       "       u'no se mueven con el aire son m\\xe1s',\n",
       "       u'C\\xf3mo se llama con el aire si es el agua',\n",
       "       u'ejemplo no s\\xe9 si',\n",
       "       u'no con mucho aire no tiene que ver con el viento a ver', u'CURP',\n",
       "       u'la pr\\xf3xima sale lo importante de esto',\n",
       "       u'lo peor es que mejor tinaco momento de su vida viola la pel\\xedcula llamada a Nemo',\n",
       "       u'dile aparte la pel\\xedcula Mostrar las tortugas viajan por corrientes esas son',\n",
       "       u'corrientes oce\\xe1nicas o sea masas de agua que est\\xe1n en constante movimiento',\n",
       "       u'constante circulaci\\xf3n por diferentes temperaturas',\n",
       "       u'temperatura a la que se pasa que la masa puede ser completamente fr\\xedo',\n",
       "       u'la venta caliente producto de la diferencia temperatura y presiones que hay en el oc\\xe9ano',\n",
       "       u'D\\xf3nde est\\xe1 siempre constantemente movi\\xe9ndose todo',\n",
       "       u'y por otro lado por otro lado lo que es la',\n",
       "       u'lo que la altitud tiene que ver con',\n",
       "       u'la altura con respecto al nivel del mar est\\xe1 la iglesia Cuando te sube un cerro',\n",
       "       nan, u'Cuando digo que tiene que ver con respecto al mar',\n",
       "       u'quiere decir que es con respecto a la altura que se est\\xe1 anunciando sea',\n",
       "       u'chistes parte por ejemplo nivel del mar tiene cierta altitud',\n",
       "       u'usted comienza a subir un cerro qu\\xe9 es lo que ha modificado su actitud',\n",
       "       u'adem\\xe1s latitud quiero que produc\\xeda una disminuci\\xf3n de la presi\\xf3n',\n",
       "       u'mayores alturas menores precio en plan todo esto puede ser que',\n",
       "       u'\\xe1rea menor presi\\xf3n', u'porque goza as\\xed',\n",
       "       u'bueno beb\\xe9 tirado', u'abor\\xedgenes tapan los o\\xeddos',\n",
       "       u'escribe un poco evidente su compa\\xf1\\xeda',\n",
       "       u'y es lo correcto amiga que se va subiendo y no va a ser cuando despega el avi\\xf3n',\n",
       "       u'cambia la presi\\xf3n al cambiar la presi\\xf3n tu cuerpo se',\n",
       "       u'tiene que volver a adecuada nueva formado o a la nueva caracter\\xedstica',\n",
       "       u'miente pronto si se modifica la presi\\xf3n lo primero que puede pasar yo hands',\n",
       "       u'es que se pueden tapar los o\\xeddos los segundos que te pueden doler y lo tercero que se puedan',\n",
       "       u'las 12 caso casi 2',\n",
       "       u'lleva sucediendo Se va dando de acuerdo aqu\\xed o se va dando por \\xe9l',\n",
       "       u'canci\\xf3n Ave que tu cuerpo se va adecuando sirve',\n",
       "       u'por eso habr\\xeda que tu cuerpo se va de cuando se va a estar pisando',\n",
       "       u'van pasando y bendecido acciones la persona que lo mejor con un cambio reciente en Miramar ya no s\\xe9',\n",
       "       u'qu\\xe9 sigue su cuerpo no logra adecuarse a estos cambios tan bruscos Josefa',\n",
       "       u'la altura la altura con respecto al nivel del mar',\n",
       "       u'eso es actitud Porque ahora est\\xe1 a nivel del mar',\n",
       "       u'S\\xed o s\\xed yo salgo a calle est\\xe1 embarazado esta zona',\n",
       "       u'con respecto al nivel del mar Santiago establecida mente 500 600 metros sobre nivel',\n",
       "       u'Qu\\xe9 quiere decir eso qu\\xe9 quiere decir eso',\n",
       "       u'Por ejemplo si Ac\\xe1 est\\xe1 lo que es el mar el oc\\xe9ano a medida que la',\n",
       "       u'ciudades al menos en Chile te va moviendo hacia el valle la altura van',\n",
       "       u'cuento sobre ejemplo si Ac\\xe1 est\\xe1 tu casa ac\\xe1 est\\xe1 tu h\\xedgado',\n",
       "       u'no est\\xe1 con respecto al nivel del mar o sea Esto va modific\\xe1ndose',\n",
       "       u'respecto a la altura que \\xe9stas',\n",
       "       u'Pues s\\xed por eso es importante que compre la diferencia entre altitud y latitud latitud',\n",
       "       u'respecto al Ecuador sea yo dibujo el mundo est\\xe1 la l\\xednea d',\n",
       "       u'jugador vicioso y cercana estoy lejano hay por otro lado',\n",
       "       u'los diablos actitudes con respecto al nivel del mar se quedan cerca de la costa est\\xe1s',\n",
       "       u'no es lo mismo lo l\\xf3gico respecto a venir al Ecuador',\n",
       "       u'con respecto a la cercan\\xeda al oc\\xe9ano sin altura',\n",
       "       u'de altura diga', u'la latitud es con respecto a una posici\\xf3n',\n",
       "       u'es que eso no es la actitud es un cambio geogr\\xe1fico',\n",
       "       u'Sigo sin',\n",
       "       u'la dejes de Mirar video porque me estaba supuestamente',\n",
       "       u'Enseguida lo sab\\xedan y ahora Est\\xe1n volviendo atr\\xe1s entonces',\n",
       "       u'con respecto a lo que son las ubicaciones del clima el clima produce algunos cambios',\n",
       "       u'C\\xf3mo se usan los cambios que son m\\xe1s instant\\xe1neos de lo que hemos conversado con \\xe9l',\n",
       "       u'fluctuaciones de cambio',\n",
       "       u'poema el cambio de clima cuando hago de Qu\\xe9 son fluctuaciones que decir qu\\xe9',\n",
       "       u'son cambios reiterado que siempre sea de la misma forma yo todo Parecen dos cosas',\n",
       "       u'1.los es el fen\\xf3meno el ni\\xf1o y el fen\\xf3meno de la ni\\xf1a',\n",
       "       u' el fen\\xf3meno el ni\\xf1o hacia luz',\n",
       "       u'osea est\\xe1 relacionado con respecto a una corriente o con',\n",
       "       u'recto a un movimiento',\n",
       "       u'No no es una inundaci\\xf3n mayor feliz que ver con las corrientes',\n",
       "       u'Qu\\xe9 quiere decir eso',\n",
       "       u'es por ejemplo el fen\\xf3meno ni\\xf1o Procura o se da cuando la temp',\n",
       "       u'altura del agua aumenta con respecto a otra',\n",
       "       u'nuevamente espero mi ni\\xf1o tiene que ver con un aumento de la temperatura',\n",
       "       u'Qu\\xe9 fen\\xf3meno ni\\xf1a tiene qu\\xe9',\n",
       "       u'tengo una disminuci\\xf3n de la temperatura que quiere decir esto',\n",
       "       u'en el caso con respecto a la temperatura del mar',\n",
       "       u'con respecto a esto por ejemplo cuando dicen en Chile hemos sido',\n",
       "       u'por el fen\\xf3meno la ni\\xf1a en Chile siempre ese fen\\xf3meno ni\\xf1a m\\xe1s que el fen\\xf3meno del ni\\xf1o',\n",
       "       u'hemos sido afectados por el fen\\xf3meno la ni\\xf1a que quiere decir eso queda temperatura',\n",
       "       u'la costa la temperatura de la parte oce\\xe1nica ha disminuido la producto',\n",
       "       u'este fen\\xf3meno', u'osea no te va',\n",
       "       u'instalaci\\xf3n de nuevos para entender un ni\\xf1o y otra ni\\xf1a',\n",
       "       u'est\\xe1 escrito ah\\xed Siri Tamayo temperatura ni\\xf1o me lo tengo',\n",
       "       u'ni\\xf1a a m\\xed o no s\\xe9', u'soledad',\n",
       "       u'no s\\xe9 tepper no s\\xe9 a d\\xf3nde andas',\n",
       "       u'porque deriva venga ya Pero simplemente lo dec\\xeds encontr\\xf3 fue',\n",
       "       u'la ni\\xf1a primero y despu\\xe9s encontr\\xf3 el control concepto el feo',\n",
       "       u'lo contrario producido el nombre contrario en forma masculina',\n",
       "       u'en Chile el precio metro son los m\\xe1s afectados por el de menor temperatura',\n",
       "       nan, u'es un decir', u'venir temperatura mayor en la costa',\n",
       "       u' y finalmente',\n",
       "       u'finalmente est\\xe1n los que son los gases del efecto invernadero',\n",
       "       u'En qu\\xe9 consisten los gases de efecto invernadero',\n",
       "       u'comprender\\xe1 usted entender\\xe1', u'cuando viene el invierno',\n",
       "       u'sabes lo que pasa con respecto a los gases de efecto invernadero Josefa',\n",
       "       u'nena que ver con eso cuando hablo de los efectos de los gases invernaderos',\n",
       "       u'ustedes que son gases que quedan dentro de nuestra capa de la atm\\xf3sfera',\n",
       "       u'no logra salir de la capa de ozono y qui\\xe9n al interior de la masa de aire que nosotros respiramos',\n",
       "       u'estos gases no es tan cercano nosotros cuando no son letales para nosotros pero si quieres',\n",
       "       u'dentro de esta capa de ozono qu\\xe9 es lo que producen los efectos de los gases invernal',\n",
       "       u'producen que como est\\xe1n quedando que han sacado la capa de ozono Cuando entr\\xf3',\n",
       "       u'rayo de luz tanto ultravioleta como rayos solares lo normal o lo que sucedi\\xf3 hace mucho',\n",
       "       u'lo anterior que estaba Radio Luz y volvi\\xf3 a salir',\n",
       "       u'quiero que busques los gases de efecto invernadero pasa El rayo de luz por la capa ozono',\n",
       "       u'miradas que rebota para volver a salir con la capa de ozono y no logra salir',\n",
       "       u'qu\\xe9 es lo que puse esto produce un aumento de la temperatura de la tierra es por eso',\n",
       "       u'se est\\xe1 hablando lo que es el calentamiento global el calentamiento global tiene que ver',\n",
       "       u'relaci\\xf3n con los gases de efecto invernadero porque porque no permiten que los rayos de luz',\n",
       "       u'entre la tierra pero no que salgan todos ustedes como decir que estar as\\xed',\n",
       "       u'energ\\xeda pero estaba enviciando que salga no te lo permitir\\xe9 que aumenta la',\n",
       "       u'porqu\\xe9 rebota porque funciona como una membrana los d\\xedas',\n",
       "       u'gases defensivamente hacer una barrera entonces una barrera que es',\n",
       "       u'permite que algo ingresa y no que salgan las palabras solamente permiten',\n",
       "       u'el paso hacia un sentido es como tener una calle de un solo sentido pod\\xe9s pasar programas',\n",
       "       u'pues ah\\xed mismo la diferencia',\n",
       "       u'hacemos lo que pasa con el efecto invernadero horarios tienen una sola ya pueden',\n",
       "       u'planeta pero no voy a salir qu\\xe9 es lo que ha hecho estos los \\xfaltimos 30 a\\xf1os',\n",
       "       u'la tierra aumenta en promedio unos 34 grados anti',\n",
       "       u'la temperatura de la tierra de la superficie de 14 grados Celsius hoy en d\\xeda que hablo',\n",
       "       u'qu\\xe9 es lo que hace esto por ejemplo no s\\xe9 si antes en alguna lugar se pod\\xeda',\n",
       "       u'producir alguna planta alg\\xfan fruto en espec\\xedfico lo m\\xe1s probable es que s\\xed es un fruto',\n",
       "       u'dependiendo un clima de menor temperatura hoy en d\\xeda ya no se pueda',\n",
       "       u'o en otras palabras por ejemplo antiguamente era impensado',\n",
       "       u'mejor ac\\xe1 en Santiago si alguien planta van hacer una palmera',\n",
       "       u'la palmera puede ser ya pusiste ya porque est\\xe1 asociado a lugares',\n",
       "       u'Tropical produce el efecto invernadero que ha hecho Que obviamente Santiago',\n",
       "       u'mucha paz de chile cambia el clima se aumenta la temperatura con respecto a la anterior obviamente',\n",
       "       u'Traducir a llegar a determinar que aumenta la temperatura y aqu\\xed se va a emocionar',\n",
       "       u'es una barrera que produce ya que deja entrar los rayos solar',\n",
       "       u'produce un aumento de la temperatura en la tierra', nan,\n",
       "       u'no debes hacer', u'habr\\xeda de hecho ya ahora no es muy bueno',\n",
       "       u'no es muy bueno porque porque lo que sucede',\n",
       "       u'que lo que puse l\\xe1mina de efecto invernadero Aqu\\xed tambi\\xe9n se busca esta diferencia muy grande',\n",
       "       u'temperaturas porque Porque mientras el sol no alumbre tengo',\n",
       "       u'la muy baja empieza a alumbrar el sol empieza a mandar la temperatura considerablemente',\n",
       "       u'porque solamente el mito encuentro los rayos y no te cede vuelvas a ver si por ejemplo',\n",
       "       u'sabes en el verano es normal que mujer en verano ejemplo amanezca Con 12 grados Celsius',\n",
       "       u'dormir al d\\xeda con 36 eso ser\\xe1 pronto y que de los gases invernadero que una vez',\n",
       "       u'rayos al entrar a la tierra no permiten que vuelva a salir entonces a la temperatura',\n",
       "       u'Apagar luz se vaya yo ya vente para que aluce van a llegar y no lo sabe',\n",
       "       u'inmediatamente lo que te demora Dami\\xe1n no s\\xe9 qui\\xe9n mira produciendo esto estoy a luz',\n",
       "       u'lo que hoy en d\\xeda es el peligro para la humanidad que son anti',\n",
       "       u'Qu\\xe9 es que lo dejemos los glaciares se est\\xe1n descongelando los glaciares se descongelan',\n",
       "       u'ser humano pierde \\xfanicamente si se congela todo el d\\xeda',\n",
       "       u'tenemos que a toda la tierra inundada Entonces es uno de los mayores peligros',\n",
       "       u'llegu\\xe9 a pasar prometo temperatura que se descongele dos y se mueren todos',\n",
       "       u'TV', u'3 grados despu\\xe9s de la tarde hace 36 encuentra',\n",
       "       u'S\\xed y lo mismo sucedi\\xf3 esto se ve evidencia un poco m\\xe1s podr\\xedamos decir',\n",
       "       u'lejano en lo que s\\xf3lo desierto sino la persona que',\n",
       "       u'pasan por un desierto en un desierto en la noche son muy helada especialmente menos 10 grados bajo cero',\n",
       "       u'ya estaba hablando de que es una dualidad de temperatura muy grande',\n",
       "       u'Eso me gusta porque me gusta lo que hace efecto invernadero explicar',\n",
       "       u'lo que la latitud para que le quede claro cuando hablo de latitud',\n",
       "       u'cuando habl\\xf3 el Attitude estoy hablando con mi punto de origen cholita \\xc1lvarez',\n",
       "       u'Va a llover en Sony pero te preguntando cuando hablo de latitud estoy hablando',\n",
       "       u'principalmente de mi punto origen la l\\xednea del Ecuador o sea es ese punto referente',\n",
       "       u'utilizar cuando yo le digo que por ejemplo se modifica la',\n",
       "       u'con respecto al Ecuador 323 te acercas al Polo \\xc1rtico o de hacer casas',\n",
       "       u'el Polo Ant\\xe1rtico palabras si yo empiezo a avisar esto',\n",
       "       u'rivalidad Ecuador ac\\xe1 tengo el Polo Ant\\xe1rtico',\n",
       "       u'el Polo \\xc1rtico que evidencia esto Avenida que t\\xfa te mueres del Ecuador',\n",
       "       u'hacia el Polo \\xc1rtico orde\\xf1adoras el Polo Ant\\xe1rtico la temperatura van cambiando',\n",
       "       u'yo no tengo 40 grados en la Ant\\xe1rtida porque la ant\\xe1rtica',\n",
       "       u'estad\\xedstica tiene que como la tierra Recuerda que la tierra est\\xe1 inclinada el rey',\n",
       "       u'ya no llega con el mismo \\xe1ngulo que trabaj\\xf3 por tanto es menor a luz solar',\n",
       "       u'llega menos la energ\\xeda que est\\xe1 llegando por eso son zonas m\\xe1s fr\\xedas y por eso se da',\n",
       "       u'la diferencia de que me diga que yo me estoy modificando de la l\\xednea del Ecuador',\n",
       "       u'me estoy moviendo hacia los polos obviamente los climas van modific\\xe1ndose',\n",
       "       u'De qu\\xe9 forma m\\xe1s fr\\xedos sea m\\xe1s helados por otro lado',\n",
       "       u'por otro lado la altitud cuando yo te hablaba de la actitud lo que busco C\\xf3mo vas yo los veo',\n",
       "       u'C\\xf3mo m\\xedsero es el oc\\xe9ano donde est\\xe1 la playa Avenida polic\\xeda',\n",
       "       u'si tengo que la playa y digo que lo de la playa por ejemplo hay una monta\\xf1a',\n",
       "       u'ah\\xed tengo cierta altitud y latitud 0',\n",
       "       u'Avenida que empieza a subir va subiendo latitud y',\n",
       "       u'pasando bajando la presi\\xf3n porque hay menos columna de a\\xf1o',\n",
       "       u'eso alguna duda todav\\xeda', u'risotto \\xe1cido', u'no no no no',\n",
       "       u'no porque es muy muy corto el tema como para poder hacer tantas preguntas',\n",
       "       u'pero quiero que te pregunto', u'si te dije coraz\\xf3n',\n",
       "       u'temperatura del agua Josefa una duda perfecto quedamos aqu\\xed',\n",
       "       u'el temario se quiere se quiere repasar y aprender en mayo',\n",
       "       u'hielera de la p\\xe1gina 52 a las 60 ah\\xed est\\xe1 la materia',\n",
       "       u'demostrado trabajando y conversando en esta clase', u'chinita',\n",
       "       u'pero ya son gases que produce un aumento de temperatura', nan,\n",
       "       u'perdone p\\xe1gina 66', nan, u'Hola Me llamo Claudia',\n",
       "       u'cuando hablamos loter\\xeda del abuelo',\n",
       "       u'notas sobre la superaci\\xf3n a dejar de existir',\n",
       "       u'por eso por eso se llama que es una dualidad'], dtype=object)"
      ]
     },
     "execution_count": 53,
     "metadata": {},
     "output_type": "execute_result"
    }
   ],
   "source": [
    "mo7_1[u'Línea de texto'].values"
   ]
  },
  {
   "cell_type": "code",
   "execution_count": null,
   "metadata": {
    "collapsed": true
   },
   "outputs": [],
   "source": []
  }
 ],
 "metadata": {
  "kernelspec": {
   "display_name": "Python [conda env:env27]",
   "language": "python",
   "name": "conda-env-env27-py"
  },
  "language_info": {
   "codemirror_mode": {
    "name": "ipython",
    "version": 2
   },
   "file_extension": ".py",
   "mimetype": "text/x-python",
   "name": "python",
   "nbconvert_exporter": "python",
   "pygments_lexer": "ipython2",
   "version": "2.7.14"
  }
 },
 "nbformat": 4,
 "nbformat_minor": 2
}
