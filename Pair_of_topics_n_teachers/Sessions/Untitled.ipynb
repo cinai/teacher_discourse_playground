{
 "cells": [
  {
   "cell_type": "code",
   "execution_count": 1,
   "metadata": {
    "collapsed": true
   },
   "outputs": [],
   "source": [
    "from os import listdir\n",
    "from os.path import isfile, join\n",
    "import os\n",
    "from ena import text_preprocessing as tp, ena_processing as ep, ena_viz as ev\n",
    "import pickle\n",
    "import pandas as pd\n",
    "from shutil import copyfile\n",
    "\n",
    "root_path = os.path.join('..','..','..')\n",
    "data_path = os.path.join(root_path,'data')\n",
    "output_path = os.path.join(root_path,'output')\n",
    "pickle_path = os.path.join(output_path,'pickles')\n",
    "by_grade_path = os.path.join(output_path,'textos_ulloa_by_curso')\n",
    "by_grade_and_content = os.path.join(data_path,'textos_ulloa_by_grade_content')\n",
    "by_content_path = os.path.join(output_path,'textos_ulloa_by_contenido')\n",
    "all_files_path = os.path.join(data_path,'textos_ulloa')\n",
    "all_classes = os.path.join(data_path,'clases_ulloa.txt')\n",
    "FILTER_BY_LENGTH = True\n",
    "MIN_LENGTH = 20 # minutes\n",
    "\n",
    "COPY_WITH_LOSS = False\n",
    "LOST_WORDS = 10 # percentage\n",
    "\n",
    "SPLIT_DOCUMENTS_IN_PERIODS = True\n",
    "PERIOD_LENGTH = 5 # minutss\n",
    "OVERLAP_LENGTH = 4 # minutes\n",
    "\n",
    "USE_DIAGONAL = False"
   ]
  },
  {
   "cell_type": "code",
   "execution_count": 2,
   "metadata": {
    "collapsed": true
   },
   "outputs": [],
   "source": [
    "all_documents_dict = tp.read_documents(all_files_path)\n",
    "with open(os.path.join(output_path,'pickles','document_length_dict.pickle'),'rb') as f:\n",
    "    document_length = pickle.load(f)"
   ]
  },
  {
   "cell_type": "code",
   "execution_count": 3,
   "metadata": {
    "collapsed": true
   },
   "outputs": [],
   "source": [
    "if FILTER_BY_LENGTH:\n",
    "    filtered_documents = tp.filter_by_duration(document_length,all_documents_dict,MIN_LENGTH)\n",
    "else:\n",
    "    filtered_documents = all_documents_dict"
   ]
  },
  {
   "cell_type": "code",
   "execution_count": 4,
   "metadata": {
    "collapsed": true
   },
   "outputs": [],
   "source": [
    "with open(os.path.join(output_path,'pickles','label_per_audio.pickle'),'rb') as f:\n",
    "    labels_per_audio = pickle.load(f)"
   ]
  },
  {
   "cell_type": "code",
   "execution_count": 5,
   "metadata": {},
   "outputs": [
    {
     "name": "stdout",
     "output_type": "stream",
     "text": [
      "54\n"
     ]
    }
   ],
   "source": [
    "levels = [[] for i in range(6)]\n",
    "counter = 0\n",
    "for k,v in labels_per_audio.items():\n",
    "    for i in range(6):\n",
    "        if k in filtered_documents.keys():\n",
    "            if v.startswith(str(7+i)):\n",
    "                levels[i].append(k)\n",
    "                counter +=1\n",
    "        levels[i].sort()\n",
    "        #levels[i] = list()\n",
    "index_doc = []\n",
    "for l in levels:\n",
    "    for l_i in l:\n",
    "        index_doc.append(l_i)\n",
    "print len(index_doc)"
   ]
  },
  {
   "cell_type": "code",
   "execution_count": 6,
   "metadata": {
    "collapsed": true
   },
   "outputs": [],
   "source": [
    "labels_english = pd.read_csv(os.path.join(data_path,'labels_english.csv'),sep=';')\n",
    "dict_labels_english = {}\n",
    "for i,k in enumerate(labels_english.key_doc):\n",
    "    dict_labels_english[str(k)] = labels_english.label_english.values[i]"
   ]
  },
  {
   "cell_type": "code",
   "execution_count": 7,
   "metadata": {},
   "outputs": [
    {
     "name": "stdout",
     "output_type": "stream",
     "text": [
      "7th-B - Presure \n"
     ]
    }
   ],
   "source": [
    "doc_index = 0\n",
    "doc = index_doc[doc_index]\n",
    "print dict_labels_english[doc]"
   ]
  },
  {
   "cell_type": "code",
   "execution_count": 8,
   "metadata": {},
   "outputs": [
    {
     "data": {
      "text/plain": [
       "54"
      ]
     },
     "execution_count": 8,
     "metadata": {},
     "output_type": "execute_result"
    }
   ],
   "source": [
    "len(index_doc)"
   ]
  },
  {
   "cell_type": "code",
   "execution_count": 9,
   "metadata": {
    "collapsed": true
   },
   "outputs": [],
   "source": [
    "for i in range(len(index_doc)):\n",
    "    file_name = 'Session plotter.ipynb'\n",
    "    doc_index = i\n",
    "    doc = index_doc[doc_index]\n",
    "    file_dest = dict_labels_english[doc]+'_'+doc+'.ipynb'\n",
    "    with open(file_name,\"r\") as f_input:\n",
    "        with open(file_dest,\"w\") as f_output: \n",
    "            c = 1\n",
    "            for line in f_input:\n",
    "                if c == 472:\n",
    "                    f_output.write(u'    \"doc_index = '+str(i)+'\\\\n\",\\n')\n",
    "                else:\n",
    "                    f_output.write(line)\n",
    "                c+=1"
   ]
  }
 ],
 "metadata": {
  "kernelspec": {
   "display_name": "Python [conda env:env27]",
   "language": "python",
   "name": "conda-env-env27-py"
  },
  "language_info": {
   "codemirror_mode": {
    "name": "ipython",
    "version": 2
   },
   "file_extension": ".py",
   "mimetype": "text/x-python",
   "name": "python",
   "nbconvert_exporter": "python",
   "pygments_lexer": "ipython2",
   "version": "2.7.14"
  }
 },
 "nbformat": 4,
 "nbformat_minor": 2
}
